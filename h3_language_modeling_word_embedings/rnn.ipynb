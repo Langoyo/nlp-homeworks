{
 "cells": [
  {
   "cell_type": "markdown",
   "source": [
    "\n",
    "\n",
    "# Generating Shakespeare with a Character-Level RNN\n"
   ],
   "metadata": {}
  },
  {
   "cell_type": "markdown",
   "source": [
    "In this part, we'll turn from traditional n-gram based language models to a more advanced form of language modeling using a Recurrent Neural Network. Specifically, we'll be setting up a character-level recurrent neural network (char-rnn) for short.\n",
    "\n",
    "Andrej Karpathy, a researcher at OpenAI, has written an excellent blog post about using RNNs for language models, which you should read before beginning this assignment.  The title of his blog post is [The Unreasonable Effectiveness of Recurrent Neural Networks](http://karpathy.github.io/2015/05/21/rnn-effectiveness/).\n",
    "\n",
    "Karpathy shows how char-rnns can be used to generate texts for several fun domains:\n",
    "* Shakespeare plays\n",
    "* Essays about economics\n",
    "* LaTeX documents\n",
    "* Linux source code\n",
    "* Baby names\n",
    "\n",
    "# Recommended Reading\n",
    "\n",
    "You should install PyTorch, know Python, and understand Tensors:\n",
    "\n",
    "* http://pytorch.org/ For installation instructions\n",
    "* [Deep Learning with PyTorch: A 60-minute Blitz](https://github.com/pytorch/tutorials/blob/master/Deep%20Learning%20with%20PyTorch.ipynb) to get started with PyTorch in general\n",
    "* [jcjohnson's PyTorch examples](https://github.com/jcjohnson/pytorch-examples) for an in depth overview\n",
    "* [Introduction to PyTorch for former Torchies](https://github.com/pytorch/tutorials/blob/master/Introduction%20to%20PyTorch%20for%20former%20Torchies.ipynb) if you are former Lua Torch user\n",
    "\n",
    "It would also be useful to know about RNNs and how they work:\n",
    "\n",
    "* [The Unreasonable Effectiveness of Recurrent Neural Networks](http://karpathy.github.io/2015/05/21/rnn-effectiveness/) shows a bunch of real life examples\n",
    "* [Understanding LSTM Networks](http://colah.github.io/posts/2015-08-Understanding-LSTMs/) is about LSTMs specifically but also informative about RNNs in general\n",
    "\n",
    "Also see these related tutorials from the series:\n",
    "\n",
    "* [Classifying Names with a Character-Level RNN](https://github.com/spro/practical-pytorch/blob/master/char-rnn-classification/char-rnn-classification.ipynb) uses an RNN for classification\n",
    "* [Generating Names with a Conditional Character-Level RNN](https://github.com/spro/practical-pytorch/blob/master/conditional-char-rnn/conditional-char-rnn.ipynb) builds on this model to add a category as input\n",
    "\n",
    "## You can also set up Pytorch in Google Colab\n",
    "\n",
    "Pytorch is one of the most popular deep learning frameworks in both industry and academia, and learning its use will be invaluable should you choose a career in deep learning. \n",
    "\n",
    "### Setup\n",
    "#### Using Google Colab (recommended)\n",
    "1. Upload this notebook on [Colab](https://colab.research.google.com/notebooks/welcome.ipynb).\n",
    "2. Set hardware accelerator to ```GPU``` under ```notebook settings``` in the ```Edit``` menu.\n",
    "3. Run the first cell to  set up  the environment.\n",
    "\n",
    "### Note\n",
    "Please look at the FAQ section before you start working.\n"
   ],
   "metadata": {}
  },
  {
   "cell_type": "markdown",
   "source": [
    "# Prepare data\n",
    "\n",
    "The file we are using is a plain text file. We turn any potential unicode characters into plain ASCII by using the `unidecode` package (which you can install via `pip` or `conda`)."
   ],
   "metadata": {}
  },
  {
   "cell_type": "code",
   "execution_count": 1,
   "source": [
    "import unidecode\n",
    "import string\n",
    "import random\n",
    "import re\n",
    "import torch\n",
    "\n",
    "all_characters = string.printable\n",
    "n_characters = len(all_characters)\n",
    "\n",
    "file = unidecode.unidecode(open('shakespeare_data/shakespeare_input.txt').read())\n",
    "file_len = len(file)\n",
    "print('file_len =', file_len)"
   ],
   "outputs": [
    {
     "output_type": "stream",
     "name": "stdout",
     "text": [
      "file_len = 4573338\n"
     ]
    }
   ],
   "metadata": {}
  },
  {
   "cell_type": "markdown",
   "source": [
    "To make inputs out of this big string of data, we will be splitting it into chunks."
   ],
   "metadata": {}
  },
  {
   "cell_type": "code",
   "execution_count": 2,
   "source": [
    "chunk_len = 200\n",
    "\n",
    "def random_chunk():\n",
    "    start_index = random.randint(0, file_len - chunk_len)\n",
    "    end_index = start_index + chunk_len + 1\n",
    "    return file[start_index:end_index]\n",
    "\n",
    "print(random_chunk())"
   ],
   "outputs": [
    {
     "output_type": "stream",
     "name": "stdout",
     "text": [
      "thank\n",
      "God I have as little patience as another man; and\n",
      "therefore I can be quiet.\n",
      "\n",
      "DON ADRIANO DE ARMADO:\n",
      "I do affect the very ground, which is base, where\n",
      "her shoe, which is baser, guided by her foot,\n"
     ]
    }
   ],
   "metadata": {}
  },
  {
   "cell_type": "markdown",
   "source": [
    "# Build the Model\n",
    "\n",
    "This model will take as input the character for step $t_{-1}$ and is expected to output the next character $t$. There are three layers - one linear layer that encodes the input character into an internal state, one GRU layer (which may itself have multiple layers) that operates on that internal state and a hidden state, and a decoder layer that outputs the probability distribution. You need to finish the forward method. (Refer to [Pytorch GRU Documentation](https://pytorch.org/docs/stable/nn.html#gru))"
   ],
   "metadata": {}
  },
  {
   "cell_type": "code",
   "execution_count": 3,
   "source": [
    "import torch\n",
    "import torch.nn as nn\n",
    "\n",
    "device = torch.device(\"cuda\" if torch.cuda.is_available() else \"cpu\")\n",
    "\n",
    "class RNN(nn.Module):\n",
    "    def __init__(self, input_size, hidden_size, output_size, n_layers=1):\n",
    "        super(RNN, self).__init__()\n",
    "        self.input_size = input_size\n",
    "        self.hidden_size = hidden_size\n",
    "        self.output_size = output_size\n",
    "        self.n_layers = n_layers\n",
    "        \n",
    "        self.encoder = nn.Embedding(input_size, hidden_size)\n",
    "        self.gru = nn.GRU(hidden_size, hidden_size, n_layers)\n",
    "        self.decoder = nn.Linear(hidden_size, output_size)\n",
    "    \n",
    "    def forward(self, input, hidden):\n",
    "        #Input input: torch Tensor of shape (1,)\n",
    "        #hidden: torch Tensor of shape (self.n_layers, 1, self.hidden_size)\n",
    "        #Return output: torch Tensor of shape (1, self.output_size) \n",
    "        #and hidden: torch Tensor of shape (self.n_layers, 1, self.hidden_size)\n",
    "        encoded = self.encoder(input)\n",
    "        # encoded = encoded.squeeze(0)\n",
    "        # print(encoded.view())\n",
    "        # print(hidden.view())\n",
    "        encoded = encoded.unsqueeze(0)\n",
    "        encoded = encoded.unsqueeze(0)\n",
    "        output, hidden = self.gru(encoded,hidden)\n",
    "        # hidden = hidden.view(n_layers, n_directions=1, batch_size=1, hidden_dim=self.hidden_size)\n",
    "        # hidden = hidden[-1]\n",
    "        # output = output.squeeze(1)\n",
    "        # hidden_forward, hidden_backward = hidden[0], hidden[1]\n",
    "        out = self.decoder(output)\n",
    "        out = out.squeeze(1)\n",
    "        return out, hidden\n",
    "        \n",
    "\n",
    "    def init_hidden(self):\n",
    "        return torch.zeros(self.n_layers, 1, self.hidden_size).to(device)"
   ],
   "outputs": [],
   "metadata": {}
  },
  {
   "cell_type": "markdown",
   "source": [
    "# Inputs and Targets"
   ],
   "metadata": {}
  },
  {
   "cell_type": "markdown",
   "source": [
    "Each chunk will be turned into a tensor, specifically a `LongTensor` (used for integer values), by looping through the characters of the string and looking up the index of each character in `all_characters`."
   ],
   "metadata": {}
  },
  {
   "cell_type": "code",
   "execution_count": 4,
   "source": [
    "# Turn string into list of longs\n",
    "def char_tensor(string):\n",
    "    tensor = torch.zeros(len(string)).long().to(device)\n",
    "    for c in range(len(string)):\n",
    "        tensor[c] = all_characters.index(string[c])\n",
    "    return tensor\n",
    "\n",
    "print(char_tensor('abcDEF'))"
   ],
   "outputs": [
    {
     "output_type": "stream",
     "name": "stdout",
     "text": [
      "tensor([10, 11, 12, 39, 40, 41], device='cuda:0')\n"
     ]
    }
   ],
   "metadata": {}
  },
  {
   "cell_type": "markdown",
   "source": [
    "Finally we can assemble a pair of input and target tensors for training, from a random chunk. The input will be all characters *up to the last*, and the target will be all characters *from the first*. So if our chunk is \"abc\" the input will correspond to \"ab\" while the target is \"bc\"."
   ],
   "metadata": {}
  },
  {
   "cell_type": "code",
   "execution_count": 5,
   "source": [
    "def random_training_set():    \n",
    "    chunk = random_chunk()\n",
    "    inp = char_tensor(chunk[:-1])\n",
    "    target = char_tensor(chunk[1:])\n",
    "    return inp, target"
   ],
   "outputs": [],
   "metadata": {}
  },
  {
   "cell_type": "markdown",
   "source": [
    "# Evaluating\n",
    "\n",
    "To evaluate the network we will feed one character at a time, use the outputs of the network as a probability distribution for the next character, and repeat. To start generation we pass a priming string to start building up the hidden state, from which we then generate one character at a time."
   ],
   "metadata": {}
  },
  {
   "cell_type": "code",
   "execution_count": 6,
   "source": [
    "def evaluate(prime_str='A', predict_len=100, temperature=0.8):\n",
    "    hidden = decoder.init_hidden()\n",
    "    prime_input = char_tensor(prime_str)\n",
    "    predicted = prime_str\n",
    "\n",
    "    # Use priming string to \"build up\" hidden state\n",
    "    for p in range(len(prime_str) - 1):\n",
    "        _, hidden = decoder(prime_input[p], hidden)\n",
    "    inp = prime_input[-1]\n",
    "    \n",
    "    for p in range(predict_len):\n",
    "        output, hidden = decoder(inp, hidden)\n",
    "        \n",
    "        # Sample from the network as a multinomial distribution\n",
    "        output_dist = output.data.view(-1).div(temperature).exp()\n",
    "        top_i = torch.multinomial(output_dist, 1)[0]\n",
    "        \n",
    "        # Add predicted character to string and use as next input\n",
    "        predicted_char = all_characters[top_i]\n",
    "        predicted += predicted_char\n",
    "        inp = char_tensor(predicted_char)[0]\n",
    "\n",
    "\n",
    "    return predicted"
   ],
   "outputs": [],
   "metadata": {}
  },
  {
   "cell_type": "markdown",
   "source": [
    "# Training"
   ],
   "metadata": {}
  },
  {
   "cell_type": "markdown",
   "source": [
    "A helper to print the amount of time passed:"
   ],
   "metadata": {}
  },
  {
   "cell_type": "code",
   "execution_count": 7,
   "source": [
    "import time, math\n",
    "\n",
    "def time_since(since):\n",
    "    s = time.time() - since\n",
    "    m = math.floor(s / 60)\n",
    "    s -= m * 60\n",
    "    return '%dm %ds' % (m, s)"
   ],
   "outputs": [],
   "metadata": {}
  },
  {
   "cell_type": "markdown",
   "source": [
    "The main training function"
   ],
   "metadata": {}
  },
  {
   "cell_type": "code",
   "execution_count": 8,
   "source": [
    "def train(inp, target):\n",
    "    hidden = decoder.init_hidden()\n",
    "    decoder.zero_grad()\n",
    "    loss = 0\n",
    "\n",
    "    for c in range(chunk_len):\n",
    "        output, hidden = decoder(inp[c], hidden)\n",
    "        loss += criterion(output, target.unsqueeze(1)[c])\n",
    "\n",
    "    loss.backward()\n",
    "    decoder_optimizer.step()\n",
    "\n",
    "    return loss.item() / chunk_len"
   ],
   "outputs": [],
   "metadata": {}
  },
  {
   "cell_type": "markdown",
   "source": [
    "Then we define the training parameters, instantiate the model, and start training:"
   ],
   "metadata": {}
  },
  {
   "cell_type": "code",
   "execution_count": 9,
   "source": [
    "n_epochs = 2000\n",
    "print_every = 100\n",
    "plot_every = 10\n",
    "hidden_size = 100\n",
    "n_layers = 2\n",
    "lr = 0.001\n",
    "\n",
    "decoder = RNN(n_characters, hidden_size, n_characters, n_layers).to(device)\n",
    "decoder_optimizer = torch.optim.Adam(decoder.parameters(), lr=lr)\n",
    "criterion = nn.CrossEntropyLoss()\n",
    "\n",
    "start = time.time()\n",
    "all_losses = []\n",
    "loss_avg = 0\n",
    "\n",
    "for epoch in range(1, n_epochs + 1):\n",
    "    loss = train(*random_training_set())       \n",
    "    loss_avg += loss\n",
    "\n",
    "    if epoch % print_every == 0:\n",
    "        print('[%s (%d %d%%) %.4f]' % (time_since(start), epoch, epoch / n_epochs * 100, loss))\n",
    "        print(evaluate('Wh', 100), '\\n')\n",
    "\n",
    "    if epoch % plot_every == 0:\n",
    "        all_losses.append(loss_avg / plot_every)\n",
    "        loss_avg = 0"
   ],
   "outputs": [
    {
     "output_type": "stream",
     "name": "stdout",
     "text": [
      "[0m 13s (100 5%) 2.8362]\n",
      "Wht at Biton iw oac, aco reast for hathrers mhe to, ahm fn iched th hof at ut:\n",
      "To nont hoth\n",
      "tot,\n",
      "Tht l \n",
      "\n",
      "[0m 27s (200 10%) 2.4487]\n",
      "Whot ot hhe no the,\n",
      "Dasd sare id sire fher cit en?\n",
      "\n",
      "EACMCEAp:, ansdam, not me nor,, she me yo we, you  \n",
      "\n",
      "[0m 41s (300 15%) 2.2000]\n",
      "Whe this, thou?\n",
      "\n",
      "MEAREU:\n",
      "\n",
      "For; in louns she of a end a the welor, and I the wery and ho Ay a me to is  \n",
      "\n",
      "[0m 55s (400 20%) 2.1136]\n",
      "Wher correse in at'tay greertringen:\n",
      "Tor eostes wothhave mathes is thester, mods corluy he thir cowen  \n",
      "\n",
      "[1m 8s (500 25%) 2.0062]\n",
      "Whan ere to you ent foan to ta in.\n",
      "\n",
      "CEAN:\n",
      "Mat old senth lemy fore, and the of me all aping they the th \n",
      "\n",
      "[1m 22s (600 30%) 2.2487]\n",
      "Wher thousan cleas you wive fare is yould the to sale hare ham.\n",
      "\n",
      "HTINTO:\n",
      "Prost that befastent more be  \n",
      "\n",
      "[1m 36s (700 35%) 1.9990]\n",
      "Whelker thy thear yould old\n",
      "Wir will lown thus gord ould she me storoar that of mebless bolderes mun a \n",
      "\n",
      "[1m 49s (800 40%) 2.0068]\n",
      "Wher that I the with thage.\n",
      "\n",
      "OTINA:\n",
      "She the that we lord bofuad shet in have alse and thy for-wheran:\n",
      " \n",
      "\n",
      "[2m 3s (900 45%) 2.0764]\n",
      "What it your mast that even, is houndpries will theman tame whoo's,\n",
      "He damy, what thead, of hike,\n",
      "Whel \n",
      "\n",
      "[2m 17s (1000 50%) 2.0023]\n",
      "Whal,\n",
      "Thy hith our shut-sent gorther with to drentand wourd,\n",
      "Won! hen groito for dristrien, would it b \n",
      "\n",
      "[2m 30s (1100 55%) 2.0064]\n",
      "Wheld by Romovere his the costder to mise:\n",
      "Sif ye cise eremeading so, we bettere,\n",
      "But wand I lestats s \n",
      "\n",
      "[2m 44s (1200 60%) 1.9589]\n",
      "Whelby!\n",
      "Nart thy croy's brod, forth then not lords,\n",
      "And the were casins colth and comuch well'd\n",
      "Prow t \n",
      "\n",
      "[2m 57s (1300 65%) 1.8900]\n",
      "Whair fruath,.\n",
      "Net there entlest it hath and to the father hast to my ince have his do my to my have p \n",
      "\n",
      "[3m 11s (1400 70%) 1.7337]\n",
      "Wher scans or theee frows there:\n",
      "You; it with my his an shill you whoy, of mosing all not doobk shall  \n",
      "\n",
      "[3m 25s (1500 75%) 1.7519]\n",
      "Wher for the all mist the and\n",
      "And of is brot, hand hatring,\n",
      "Aring he chave wouls it shall and you the  \n",
      "\n",
      "[3m 38s (1600 80%) 1.8131]\n",
      "Whan too dount of you swarrus and this westal\n",
      "Hood his greed thus: I'll my lean.\n",
      "\n",
      "DOBEL:\n",
      "Caistor him-p \n",
      "\n",
      "[3m 52s (1700 85%) 1.8427]\n",
      "Why good dane?\n",
      "\n",
      "Servion furt the stay sons,\n",
      "The his culso more fall of that lide.\n",
      "\n",
      "LANGHIRA:\n",
      "Were he f \n",
      "\n",
      "[4m 6s (1800 90%) 1.8984]\n",
      "Where shall of it told with the chanry now on conting\n",
      "shall did you see-thing brow he man:\n",
      "whither too \n",
      "\n",
      "[4m 20s (1900 95%) 1.8849]\n",
      "Where there same, send of\n",
      "not to the mone thee not daused do my efrech?\n",
      "Therefore hou duck 'to shourse \n",
      "\n",
      "[4m 33s (2000 100%) 1.7411]\n",
      "Whine his feart I have cains fried?\n",
      "\n",
      "SALGO:\n",
      "And what you\n",
      "have with shall be of the way.\n",
      "\n",
      "ACBECLESS:\n",
      "Sh \n",
      "\n"
     ]
    }
   ],
   "metadata": {}
  },
  {
   "cell_type": "markdown",
   "source": [
    "# Plotting the Training Losses\n",
    "\n",
    "Plotting the historical loss from all_losses shows the network learning:"
   ],
   "metadata": {}
  },
  {
   "cell_type": "code",
   "execution_count": 10,
   "source": [
    "import matplotlib.pyplot as plt\n",
    "import matplotlib.ticker as ticker\n",
    "%matplotlib inline\n",
    "\n",
    "plt.figure()\n",
    "plt.plot(all_losses)"
   ],
   "outputs": [
    {
     "output_type": "execute_result",
     "data": {
      "text/plain": [
       "[<matplotlib.lines.Line2D at 0x7f4503019400>]"
      ]
     },
     "metadata": {},
     "execution_count": 10
    },
    {
     "output_type": "display_data",
     "data": {
      "image/png": "[encoded data removed]",
      "text/plain": [
       "<Figure size 432x288 with 1 Axes>"
      ]
     },
     "metadata": {
      "needs_background": "light"
     }
    }
   ],
   "metadata": {}
  },
  {
   "cell_type": "markdown",
   "source": [
    "# Evaluating at different \"temperatures\"\n",
    "\n",
    "In the `evaluate` function above, every time a prediction is made the outputs are divided by the \"temperature\" argument passed. Using a higher number makes all actions more equally likely, and thus gives us \"more random\" outputs. Using a lower value (less than 1) makes high probabilities contribute more. As we turn the temperature towards zero we are choosing only the most likely outputs.\n",
    "\n",
    "We can see the effects of this by adjusting the `temperature` argument."
   ],
   "metadata": {}
  },
  {
   "cell_type": "code",
   "execution_count": 11,
   "source": [
    "print(evaluate('Th', 200, temperature=0.8))"
   ],
   "outputs": [
    {
     "output_type": "stream",
     "name": "stdout",
     "text": [
      "Ther hape, in that trut would\n",
      "What uncuralm. I wall the malion.\n",
      "\n",
      "CIRLUS:\n",
      "I should us didst for not to that the drowht.\n",
      "\n",
      "AUNIL:\n",
      "If the have scallow so nou wild thou werick so man,\n",
      "The drangent: thou prow\n"
     ]
    }
   ],
   "metadata": {}
  },
  {
   "cell_type": "markdown",
   "source": [
    "Lower temperatures are less varied, choosing only the more probable outputs:"
   ],
   "metadata": {}
  },
  {
   "cell_type": "code",
   "execution_count": 12,
   "source": [
    "print(evaluate('Th', 200, temperature=0.2))"
   ],
   "outputs": [
    {
     "output_type": "stream",
     "name": "stdout",
     "text": [
      "There a prainter the will the brown the will the will and the for the some to the such the could the are the are and the prince and the some to the come\n",
      "And the should the say the lord the sentle the co\n"
     ]
    }
   ],
   "metadata": {}
  },
  {
   "cell_type": "markdown",
   "source": [
    "Higher temperatures more varied, choosing less probable outputs:"
   ],
   "metadata": {}
  },
  {
   "cell_type": "code",
   "execution_count": 13,
   "source": [
    "print(evaluate('Th', 200, temperature=1.4))"
   ],
   "outputs": [
    {
     "output_type": "stream",
     "name": "stdout",
     "text": [
      "Thelect of. wOHLCIAN:\n",
      "Arfoild,\n",
      "As spited tnog, soullque not britalh,\n",
      "Thou rin yamethou was vare surbWhom hand.\n",
      "\n",
      "MOFY FABlAnd,, O witherhart for now this\n",
      "Sapinemes's ome joget a fly oone son\n",
      "furmpy.\n",
      "T.'\n",
      "\n"
     ]
    }
   ],
   "metadata": {}
  },
  {
   "cell_type": "code",
   "execution_count": 14,
   "source": [
    "import torch.nn.functional as F\n",
    "def perp(testfile):\n",
    "    inp = char_tensor(testfile[:-1]).to(device)\n",
    "    target = char_tensor(testfile[1:]).to(device)\n",
    "    test_len=len(testfile)\n",
    "    hidden = decoder.init_hidden()\n",
    "    decoder.zero_grad()\n",
    "    perplexity=torch.tensor(0.0).to(device)\n",
    "\n",
    "    for c in range(test_len-1):\n",
    "        output, hidden = decoder(inp[c], hidden)\n",
    "        perplexity -=F.log_softmax(output,dim=1)[0][target[c]]\n",
    "\n",
    "    return (perplexity/test_len).exp().item()\n",
    "\n",
    "testfile = unidecode.unidecode(open('shakespeare_data/shakespeare_sonnets.txt').read())\n",
    "print('Perplexity:',perp(testfile))"
   ],
   "outputs": [
    {
     "output_type": "stream",
     "name": "stdout",
     "text": [
      "Perplexity: 6.900490760803223\n"
     ]
    }
   ],
   "metadata": {}
  },
  {
   "cell_type": "markdown",
   "source": [
    "## FAQs\n",
    "\n",
    "#### I'm unfamiliar with PyTorch. How do I get started?\n",
    "If you are new to the paradigm of computational graphs and functional programming, please have a look at this [tutorial](https://hackernoon.com/linear-regression-in-x-minutes-using-pytorch-8eec49f6a0e2) before getting started.\n",
    "\n",
    "#### How do I speed up training?\n",
    "Send the model and the input, output tensors to the GPU using ```.to(device)```. Refer the [PyTorch docs](https://pytorch.org/docs/stable/notes/cuda.html) for further information.\n"
   ],
   "metadata": {}
  }
 ],
 "metadata": {
  "anaconda-cloud": {},
  "kernelspec": {
   "name": "python3",
   "display_name": "Python 3.9.5 64-bit ('base': conda)"
  },
  "language_info": {
   "codemirror_mode": {
    "name": "ipython",
    "version": 3
   },
   "file_extension": ".py",
   "mimetype": "text/x-python",
   "name": "python",
   "nbconvert_exporter": "python",
   "pygments_lexer": "ipython3",
   "version": "3.9.5"
  },
  "interpreter": {
   "hash": "fd4653ffb3619e38e0f162702933cb5a2e71428b78fc95dca1bdeccba0429964"
  }
 },
 "nbformat": 4,
 "nbformat_minor": 4
}