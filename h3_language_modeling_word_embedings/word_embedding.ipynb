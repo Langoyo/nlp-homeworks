{
 "cells": [
  {
   "cell_type": "markdown",
   "source": [
    "# NLP Homework 3 Programming Assignment\n",
    "\n",
    "## Word Embeddings\n",
    "Word embeddings or word vectors give us a way to use an efficient, dense representation in which similar words have a similar encoding. We have previously seen one-hot vectors used for representing words in a vocabulary. But, unlike these, word embeddings are capable of capturing the context of a word in a document, semantic and syntactic similarity and relation with other words.\n",
    "\n",
    "There are several popular word embeddings that are used, some of them are-\n",
    "- [Word2Vec (by Google)](https://code.google.com/archive/p/word2vec/)\n",
    "- [GloVe (by Stanford)](https://nlp.stanford.edu/projects/glove/)\n",
    "- [fastText (by Facebook)](https://fasttext.cc/)\n",
    "\n",
    "In this assignment, we will be exploring the **word2vec embeddings**, the embedding technique that was popularized by Mikolov et al. in 2013 (refer to the [original paper here](https://papers.nips.cc/paper/5021-distributed-representations-of-words-and-phrases-and-their-compositionality.pdf)). For this, we will be using the GenSim package, find documentation [here](https://radimrehurek.com/gensim/auto_examples/tutorials/run_word2vec.html#sphx-glr-auto-examples-tutorials-run-word2vec-py). This model is provided by Google and is trained on Google News dataset. Word embeddings from this model have 300 dimensions and are trained on 3 million words and phrases."
   ],
   "metadata": {
    "colab_type": "text",
    "id": "XUb7_BGivCR9"
   }
  },
  {
   "cell_type": "markdown",
   "source": [
    "### Loading word vectors from GenSim\n",
    "Fetch and load the `word2vec-google-news-300` pre-trained embeddings. Note that this may take a few minutes."
   ],
   "metadata": {
    "colab_type": "text",
    "id": "spG7NfKn0Bpf"
   }
  },
  {
   "cell_type": "code",
   "execution_count": 11,
   "source": [
    "import numpy as np\n",
    "import gensim.downloader as api\n",
    "\n",
    "def download_word2vec_embeddings():\n",
    "    print(\"Downloading pre-trained word embeddings from: word2vec-google-news-300.\\n\" \n",
    "          + \"Note: This can take a few minutes.\\n\")\n",
    "    wv = api.load(\"word2vec-google-news-300\")\n",
    "    print(\"\\nLoading complete!\\n\" +\n",
    "          \"Vocabulary size: {}\".format(len(wv.vocab)))\n",
    "    return wv\n",
    "\n",
    "word_vectors = download_word2vec_embeddings()"
   ],
   "outputs": [
    {
     "output_type": "stream",
     "name": "stdout",
     "text": [
      "Downloading pre-trained word embeddings from: word2vec-google-news-300.\n",
      "Note: This can take a few minutes.\n",
      "\n",
      "\n",
      "Loading complete!\n",
      "Vocabulary size: 3000000\n"
     ]
    }
   ],
   "metadata": {
    "colab": {},
    "colab_type": "code",
    "id": "-9OYmlcwmHTO"
   }
  },
  {
   "cell_type": "markdown",
   "source": [
    "The loaded `word_vectors` in memory can be accessed like a dictionary to obtain the embedding of any word, like so-"
   ],
   "metadata": {
    "colab_type": "text",
    "id": "gJzISbkA3xP6"
   }
  },
  {
   "cell_type": "code",
   "execution_count": 12,
   "source": [
    "print(word_vectors['hello'])\n",
    "print(\"\\nThe embedding has a shape of: {}\".format(word_vectors['hello'].shape))"
   ],
   "outputs": [
    {
     "output_type": "stream",
     "name": "stdout",
     "text": [
      "[-0.05419922  0.01708984 -0.00527954  0.33203125 -0.25       -0.01397705\n",
      " -0.15039062 -0.265625    0.01647949  0.3828125  -0.03295898 -0.09716797\n",
      " -0.16308594 -0.04443359  0.00946045  0.18457031  0.03637695  0.16601562\n",
      "  0.36328125 -0.25585938  0.375       0.171875    0.21386719 -0.19921875\n",
      "  0.13085938 -0.07275391 -0.02819824  0.11621094  0.15332031  0.09082031\n",
      "  0.06787109 -0.0300293  -0.16894531 -0.20800781 -0.03710938 -0.22753906\n",
      "  0.26367188  0.012146    0.18359375  0.31054688 -0.10791016 -0.19140625\n",
      "  0.21582031  0.13183594 -0.03515625  0.18554688 -0.30859375  0.04785156\n",
      " -0.10986328  0.14355469 -0.43554688 -0.0378418   0.10839844  0.140625\n",
      " -0.10595703  0.26171875 -0.17089844  0.39453125  0.12597656 -0.27734375\n",
      " -0.28125     0.14746094 -0.20996094  0.02355957  0.18457031  0.00445557\n",
      " -0.27929688 -0.03637695 -0.29296875  0.19628906  0.20703125  0.2890625\n",
      " -0.20507812  0.06787109 -0.43164062 -0.10986328 -0.2578125  -0.02331543\n",
      "  0.11328125  0.23144531 -0.04418945  0.10839844 -0.2890625  -0.09521484\n",
      " -0.10351562 -0.0324707   0.07763672 -0.13378906  0.22949219  0.06298828\n",
      "  0.08349609  0.02929688 -0.11474609  0.00534058 -0.12988281  0.02514648\n",
      "  0.08789062  0.24511719 -0.11474609 -0.296875   -0.59375    -0.29492188\n",
      " -0.13378906  0.27734375 -0.04174805  0.11621094  0.28320312  0.00241089\n",
      "  0.13867188 -0.00683594 -0.30078125  0.16210938  0.01171875 -0.13867188\n",
      "  0.48828125  0.02880859  0.02416992  0.04736328  0.05859375 -0.23828125\n",
      "  0.02758789  0.05981445 -0.03857422  0.06933594  0.14941406 -0.10888672\n",
      " -0.07324219  0.08789062  0.27148438  0.06591797 -0.37890625 -0.26171875\n",
      " -0.13183594  0.09570312 -0.3125      0.10205078  0.03063965  0.23632812\n",
      "  0.00582886  0.27734375  0.20507812 -0.17871094 -0.31445312 -0.01586914\n",
      "  0.13964844  0.13574219  0.0390625  -0.29296875  0.234375   -0.33984375\n",
      " -0.11816406  0.10644531 -0.18457031 -0.02099609  0.02563477  0.25390625\n",
      "  0.07275391  0.13574219 -0.00138092 -0.2578125  -0.2890625   0.10107422\n",
      "  0.19238281 -0.04882812  0.27929688 -0.3359375  -0.07373047  0.01879883\n",
      " -0.10986328 -0.04614258  0.15722656  0.06689453 -0.03417969  0.16308594\n",
      "  0.08642578  0.44726562  0.02026367 -0.01977539  0.07958984  0.17773438\n",
      " -0.04370117 -0.00952148  0.16503906  0.17285156  0.23144531 -0.04272461\n",
      "  0.02355957  0.18359375 -0.41601562 -0.01745605  0.16796875  0.04736328\n",
      "  0.14257812  0.08496094  0.33984375  0.1484375  -0.34375    -0.14160156\n",
      " -0.06835938 -0.14648438 -0.02844238  0.07421875 -0.07666016  0.12695312\n",
      "  0.05859375 -0.07568359 -0.03344727  0.23632812 -0.16308594  0.16503906\n",
      "  0.1484375  -0.2421875  -0.3515625  -0.30664062  0.00491333  0.17675781\n",
      "  0.46289062  0.14257812 -0.25       -0.25976562  0.04370117  0.34960938\n",
      "  0.05957031  0.07617188 -0.02868652 -0.09667969 -0.01281738  0.05859375\n",
      " -0.22949219 -0.1953125  -0.12207031  0.20117188 -0.42382812  0.06005859\n",
      "  0.50390625  0.20898438  0.11230469 -0.06054688  0.33203125  0.07421875\n",
      " -0.05786133  0.11083984 -0.06494141  0.05639648  0.01757812  0.08398438\n",
      "  0.13769531  0.2578125   0.16796875 -0.16894531  0.01794434  0.16015625\n",
      "  0.26171875  0.31640625 -0.24804688  0.05371094 -0.0859375   0.17089844\n",
      " -0.39453125 -0.00156403 -0.07324219 -0.04614258 -0.16210938 -0.15722656\n",
      "  0.21289062 -0.15820312  0.04394531  0.28515625  0.01196289 -0.26953125\n",
      " -0.04370117  0.37109375  0.04663086 -0.19726562  0.3046875  -0.36523438\n",
      " -0.23632812  0.08056641 -0.04248047 -0.14648438 -0.06225586 -0.0534668\n",
      " -0.05664062  0.18945312  0.37109375 -0.22070312  0.04638672  0.02612305\n",
      " -0.11474609  0.265625   -0.02453613  0.11083984 -0.02514648 -0.12060547\n",
      "  0.05297852  0.07128906  0.00063705 -0.36523438 -0.13769531 -0.12890625]\n",
      "\n",
      "The embedding has a shape of: (300,)\n"
     ]
    }
   ],
   "metadata": {
    "colab": {},
    "colab_type": "code",
    "id": "xxgfGGLq5iUA"
   }
  },
  {
   "cell_type": "markdown",
   "source": [
    "### Finding similar words [1 pt]\n",
    "\n",
    "GenSim provides a simple way out of the box to find the most similar words to a given word. Test this out below."
   ],
   "metadata": {
    "colab_type": "text",
    "id": "hH9Cb2EL7t-e"
   }
  },
  {
   "cell_type": "code",
   "execution_count": 13,
   "source": [
    "print(\"Finding top 5 similar words to 'hello'\")\n",
    "print(word_vectors.most_similar([\"hello\"], topn=5))\n",
    "print(\"\\n\")\n",
    "\n",
    "print(\"Finding similarity between 'hello' and 'goodbye'\")\n",
    "print(word_vectors.similarity(\"hello\", \"goodbye\"))"
   ],
   "outputs": [
    {
     "output_type": "stream",
     "name": "stdout",
     "text": [
      "Finding top 5 similar words to 'hello'\n"
     ]
    }
   ],
   "metadata": {
    "colab": {},
    "colab_type": "code",
    "id": "G0-g_QH27_Js"
   }
  },
  {
   "cell_type": "markdown",
   "source": [
    "For quantifying simiarity between words based on their respective word vectors, a common metric is [cosine similarity](https://en.wikipedia.org/wiki/Cosine_similarity).  Formally the cosine similarity $s$ between two vectors $a$ and $b$, is defined as:\n",
    "\n",
    "$$s=\\frac{a⋅b}{||a||||b||}, \\text{where }s∈[−1,1]$$\n",
    "\n",
    "**Write your own implementation (using only numpy) of cosine similarity and confirm that it produces the same result as the similarity method available out of the box from GenSim. [0.5 pt]** "
   ],
   "metadata": {
    "colab_type": "text",
    "id": "HsC_U2N89PEx"
   }
  },
  {
   "cell_type": "code",
   "execution_count": 1,
   "source": [
    "def cosine_similarity(vector1, vector2):\n",
    "    ### YOUR CODE BELOW\n",
    "    return np.dot(vector1,vector2)/(np.sqrt(np.sum(np.square(vector1)))*np.sqrt(np.sum(np.square(vector2))))\n",
    "        \n",
    "\n",
    "    \n",
    "\n",
    "    ### YOUR CODE ABOVE"
   ],
   "outputs": [],
   "metadata": {
    "colab": {},
    "colab_type": "code",
    "id": "UBMfA7rs-o9P"
   }
  },
  {
   "cell_type": "code",
   "execution_count": null,
   "source": [
    "gensim_similarity = word_vectors.similarity(\"hello\", \"goodbye\")\n",
    "custom_similarity = cosine_similarity(word_vectors['hello'], word_vectors['goodbye'])\n",
    "print(\"GenSim implementation: {}\".format(gensim_similarity))\n",
    "print(\"Your implementation: {}\".format(custom_similarity))\n",
    "\n",
    "assert np.isclose(gensim_similarity, custom_similarity), 'Computed similarity is off from the desired value.'"
   ],
   "outputs": [],
   "metadata": {
    "colab": {},
    "colab_type": "code",
    "id": "SSHQdWYzBUxB"
   }
  },
  {
   "cell_type": "markdown",
   "source": [
    "**Additionally, implement two other similarity metrics (using only numpy): [L1 similarity](https://en.wikipedia.org/wiki/Taxicab_geometry) (Manhattan distance) and [L2 similarity](https://en.wikipedia.org/wiki/Euclidean_distance) (Euclidean distance). [0.5 pt]**"
   ],
   "metadata": {
    "colab_type": "text",
    "id": "GX45u4WOASoc"
   }
  },
  {
   "cell_type": "code",
   "execution_count": null,
   "source": [
    "def L1_similarity(vector1, vector2):\n",
    "    sum = 0\n",
    "    ### YOUR CODE BELOW\n",
    "    for i in range(len(vector1)):\n",
    "        sum += abs(vector1[i] - vector2[i])\n",
    "    return sum\n",
    "    ### YOUR CODE ABOVE\n",
    "\n",
    "def L2_similarity(vector1, vector2):\n",
    "    ### YOUR CODE BELOW\n",
    "    sum = 0\n",
    "    for i in range(len(vector1)):\n",
    "        sum += pow(abs(vector1[i] - vector2[i]),2)\n",
    "    return np.sqrt(sum)\n",
    "    ### YOUR CODE ABOVE"
   ],
   "outputs": [],
   "metadata": {
    "colab": {},
    "colab_type": "code",
    "id": "Te1xJbnqASMQ"
   }
  },
  {
   "cell_type": "code",
   "execution_count": null,
   "source": [
    "cosine_score = cosine_similarity(word_vectors['hello'], word_vectors['goodbye'])\n",
    "L1_score = L1_similarity(word_vectors['hello'], word_vectors['goodbye'])\n",
    "L2_score = L2_similarity(word_vectors['hello'], word_vectors['goodbye'])                    \n",
    "print(\"Cosine similarity: {}\".format(cosine_score))\n",
    "print(\"L1 similarity: {}\".format(L1_score))\n",
    "print(\"L2 similarity: {}\".format(L2_score))\n",
    "\n",
    "assert np.isclose(cosine_score, 0.63990), 'Cosine similarity is off from the desired value.'\n",
    "assert np.isclose(L1_score, 40.15768), 'L1 similarity is off from the desired value.'\n",
    "assert np.isclose(L2_score, 2.88523), 'L2 similarity is off from the desired value.'"
   ],
   "outputs": [],
   "metadata": {
    "colab": {},
    "colab_type": "code",
    "id": "SORtyPzQB7MD"
   }
  },
  {
   "cell_type": "markdown",
   "source": [
    "### Exploring synonymns and antonyms [2 pts]\n",
    "\n",
    "In general, you would expect to have a high similarity between synonyms and a low similarity score between antonyms. For e.g. \"pleasant\" would have a higher similarity score to \"enjoyable\" as compared to \"unpleasant\"."
   ],
   "metadata": {
    "colab_type": "text",
    "id": "MULFRmJfEhka"
   }
  },
  {
   "cell_type": "code",
   "execution_count": null,
   "source": [
    "print(\"Similarity between synonyms- 'pleasant' and 'enjoyable': {}\".format(word_vectors.similarity(\"pleasant\", \"enjoyable\")))\n",
    "print(\"Similarity between antonyms- 'pleasant' and 'unpleasant': {}\".format(word_vectors.similarity(\"pleasant\", \"unpleasant\")))"
   ],
   "outputs": [],
   "metadata": {
    "colab": {},
    "colab_type": "code",
    "id": "X5xQ30AEFWYd"
   }
  },
  {
   "cell_type": "markdown",
   "source": [
    "However, counter-intuitievely this is not always the case. Often, the similarity score between a word and its antonym is higher than the similarity score with its synonym. For e.g. \"sharp\" has a giher similarity score with \"blunt\" as compared to \"pointed\".\n",
    "\n",
    "**Find two sets of words {$w$, $w_s$, $w_a$} such that {$w$, $w_s$} are synonyms and {$w$, $w_a$} are antonyms, which have intuitive similarity scores with synonyms and antonyms (synonym_score > antonym_score). [0.5 pts]**\n",
    "\n",
    "**Find two sets of words {$w$, $w_s$, $w_a$} such that {$w$, $w_s$} are synonyms and {$w$, $w_a$} are antonyms, which have counter-intuitive similarity scores with synonyms and antonyms (antonym_score > synonym_score). [0.5 pts]**"
   ],
   "metadata": {
    "colab_type": "text",
    "id": "fnu8s16IGDUT"
   }
  },
  {
   "cell_type": "code",
   "execution_count": null,
   "source": [
    "print(\"Similarity between synonyms- 'sharp' and 'pointed': {}\".format(word_vectors.similarity(\"sharp\", \"pointed\")))\n",
    "print(\"Similarity between antonyms- 'sharp' and 'blunt': {}\".format(word_vectors.similarity(\"sharp\", \"blunt\")))\n",
    "\n",
    "### YOUR EXAMPLES BELOW\n",
    "# words = list(word_vectors.index_to_key)\n",
    "word_set_1 = ['begin','start','end']\n",
    "word_set_2 = ['girl','woman','man']\n",
    "word_set_3 = ['warm','hot','cold']\n",
    "word_set_4 = ['dark','black','light']\n",
    "### YOUR EXAMPLES ABOVE\n",
    "\n",
    "print(\"For word set 1:\")\n",
    "syn_score, ant_score = word_vectors.similarity(word_set_1[0], word_set_1[1]), word_vectors.similarity(word_set_1[0], word_set_1[2])\n",
    "print(\"Synonym similarity {} - {}: {}\".format(word_set_1[0], word_set_1[1], syn_score))\n",
    "print(\"Antonym similarity {} - {}: {}\".format(word_set_1[0], word_set_1[2], ant_score))\n",
    "assert syn_score > ant_score, 'word_set_1 is not a valid word set'\n",
    "\n",
    "print(\"For word set 2:\")\n",
    "syn_score, ant_score = word_vectors.similarity(word_set_2[0], word_set_2[1]), word_vectors.similarity(word_set_2[0], word_set_2[2])\n",
    "print(\"Synonym similarity {} - {}: {}\".format(word_set_2[0], word_set_2[1], syn_score))\n",
    "print(\"Antonym similarity {} - {}: {}\".format(word_set_2[0], word_set_2[2], ant_score))\n",
    "assert syn_score > ant_score, 'word_set_2 is not a valid word set'\n",
    "\n",
    "print(\"For word set 3:\")\n",
    "syn_score, ant_score = word_vectors.similarity(word_set_3[0], word_set_3[1]), word_vectors.similarity(word_set_3[0], word_set_3[2])\n",
    "print(\"Synonym similarity {} - {}: {}\".format(word_set_3[0], word_set_3[1], syn_score))\n",
    "print(\"Antonym similarity {} - {}: {}\".format(word_set_3[0], word_set_3[2], ant_score))\n",
    "assert ant_score > syn_score, 'word_set_3 is not a valid word set'\n",
    "\n",
    "print(\"For word set 4:\")\n",
    "syn_score, ant_score = word_vectors.similarity(word_set_4[0], word_set_4[1]), word_vectors.similarity(word_set_4[0], word_set_4[2])\n",
    "print(\"Synonym similarity {} - {}: {}\".format(word_set_4[0], word_set_4[1], syn_score))\n",
    "print(\"Antonym similarity {} - {}: {}\".format(word_set_4[0], word_set_4[2], ant_score))\n",
    "assert ant_score > syn_score, 'word_set_4 is not a valid word set'"
   ],
   "outputs": [],
   "metadata": {
    "colab": {},
    "colab_type": "code",
    "id": "PJcTOsHBIOHt"
   }
  },
  {
   "cell_type": "markdown",
   "source": [
    "**What do you think is the reason behind this? Look at how the word2vec model is trained and explain your reasoning. [1 pts]**"
   ],
   "metadata": {
    "colab_type": "text",
    "id": "rkXNkDm6cju3"
   }
  },
  {
   "cell_type": "markdown",
   "source": [
    "Space for answer"
   ],
   "metadata": {
    "colab_type": "text",
    "id": "LOO44SxWYULx"
   }
  },
  {
   "cell_type": "markdown",
   "source": [
    "### Exploring analogies [2 pts]\n",
    "\n",
    "The Distributional Hypothesis which says that words that occur in the same contexts tend to have similar meanings, leads to an interesting property which allows us to find word analogies like \"king\" - \"man\" + \"woman\" = \"queen\".\n",
    "\n",
    "We can exploit this in GenSim like so-"
   ],
   "metadata": {
    "colab_type": "text",
    "id": "XjaB9BJaMiS0"
   }
  },
  {
   "cell_type": "code",
   "execution_count": null,
   "source": [
    "word_vectors.most_similar(positive=['woman', 'king'], negative=['man'], topn=1)"
   ],
   "outputs": [],
   "metadata": {
    "colab": {},
    "colab_type": "code",
    "id": "nIsQ2jaqNFNR"
   }
  },
  {
   "cell_type": "markdown",
   "source": [
    "In the above, the analogy `man:king::woman:queen` holds true even when looking at the word embeddings.\n",
    "\n",
    "**Find two more such analogies that hold true when looking at embeddings. Write your analogy in the form of `a:b::c:d`, and check that `word_vectors.most_similar(positive=[c, b], negative=[a], topn=1)` produces d. [0.5 pts]**\n",
    "\n",
    "**Find two cases where the analogies do not hold true when looking at embeddings. Write your analogy in the form of `a:b::c:d`, and check that `word_vectors.most_similar(positive=[c, b], negative=[a], topn=10)` does not have d. [0.5 pts]**"
   ],
   "metadata": {
    "colab_type": "text",
    "id": "LuMhwo_rNPyr"
   }
  },
  {
   "cell_type": "code",
   "execution_count": null,
   "source": [
    "### YOUR EXAMPLES BELOW\n",
    "a1='bull'\n",
    "b1='cow'\n",
    "c1='man'\n",
    "d1='woman'\n",
    "\n",
    "a2='football'\n",
    "b2='footballer'\n",
    "c2='surf'\n",
    "d2='surfer'\n",
    "\n",
    "### YOUR EXAMPLES ABOVE\n",
    "\n",
    "assert(word_vectors.most_similar(positive=[c1, b1], negative=[a1], topn=1))[0][0] == d1, \"example 1 invalid\"\n",
    "assert(word_vectors.most_similar(positive=[c2, b2], negative=[a2], topn=1))[0][0] == d2, \"example 2 invalid\"\n",
    "\n",
    "### YOUR EXAMPLES BELOW\n",
    "a3='doctor'\n",
    "b3='pill'\n",
    "c3='teacher'\n",
    "d3='blackboard'\n",
    "\n",
    "a4='spain'\n",
    "b4='barcelona'\n",
    "c4='usa'\n",
    "d4='chicago'\n",
    "### YOUR EXAMPLES ABOVE\n",
    "\n",
    "matches3 = [x for x,y in word_vectors.most_similar(positive=[c3, b3], negative=[a3], topn=10)]\n",
    "matches4 = [x for x,y in word_vectors.most_similar(positive=[c4, b4], negative=[a4], topn=10)]\n",
    "\n",
    "assert d3 not in matches3, \"example 3 invalid\"\n",
    "assert d4 not in matches4, \"example 4 invalid\""
   ],
   "outputs": [],
   "metadata": {
    "colab": {},
    "colab_type": "code",
    "id": "4pO81Ar3RGqN"
   }
  },
  {
   "cell_type": "markdown",
   "source": [
    "**Why do you think some analogies work out while some do not? What might be the reason for this? [1 pts]**"
   ],
   "metadata": {
    "colab_type": "text",
    "id": "uhHaj_8-ceP6"
   }
  },
  {
   "cell_type": "markdown",
   "source": [
    "Analogies might not work beacause of the training process itself. Maybe in the training process the randomized negative word contexts affect the final word representations and we don't find exactly the relationship later. Also, the positive examples that we need for certain results to be produced might not happen in this given corpus. However, in some of the examples I tried before, the result I expected was not on the top option for the most similar but it was among the top 10."
   ],
   "metadata": {
    "colab_type": "text",
    "id": "_3cYQVf3YQSe"
   }
  },
  {
   "cell_type": "markdown",
   "source": [
    "### Exploring Bias [2.5 pts]\n",
    "\n",
    "Often, bias creeps into word embeddings. This may be gender, racial or ethnic bias. Let us look at an example-\n",
    "\n",
    "`man:doctor::woman:?`\n",
    "\n",
    "gives high scores for \"nurse\" and \"gynecologist\", revealing the underlying gender stereotypes within these job roles."
   ],
   "metadata": {
    "colab_type": "text",
    "id": "CH-A8ifMWG5t"
   }
  },
  {
   "cell_type": "code",
   "execution_count": null,
   "source": [
    "word_vectors.most_similar(positive=[\"woman\", \"doctor\"], negative=[\"man\"], topn=10)"
   ],
   "outputs": [],
   "metadata": {
    "colab": {},
    "colab_type": "code",
    "id": "YlsgmwlbWrrO"
   }
  },
  {
   "cell_type": "markdown",
   "source": [
    "**Provide two more examples that reveal some bias in the word embeddings. Look at the top-5 matches and justify your examples. [1.5 pts]**"
   ],
   "metadata": {
    "colab_type": "text",
    "id": "TSUrz7baXw_g"
   }
  },
  {
   "cell_type": "code",
   "execution_count": null,
   "source": [
    "### YOUR EXAMPLES BELOW\n",
    "# Demonstrate bias that woman dedicates to chore related activities\n",
    "a1='he'\n",
    "b1='works'\n",
    "c1='she'\n",
    "d1='works'\n",
    "# Demonstrate that each gender has a color\n",
    "a2='he'\n",
    "b2='blue'\n",
    "c2='she'\n",
    "d2='pink'\n",
    "### YOUR EXAMPLES ABOVE\n",
    "matches1 = word_vectors.most_similar(positive=[c1, b1], negative=[a1], topn=5)\n",
    "matches2 = word_vectors.most_similar(positive=[c2, b2], negative=[a2], topn=5)\n",
    "print(\"{}:{}::{}:?\".format(a1,b1,c1))\n",
    "print(word_vectors.most_similar(positive=[c1, b1], negative=[a1], topn=5))\n",
    "\n",
    "print(\"\\n{}:{}::{}:?\".format(a2,b2,c2))\n",
    "print(word_vectors.most_similar(positive=[c2, b2], negative=[a2], topn=5))\n",
    "\n",
    "assert d1 not in matches1, \"example 3 invalid\"\n",
    "assert d2 not in matches2, \"example 4 invalid\""
   ],
   "outputs": [],
   "metadata": {
    "colab": {},
    "colab_type": "code",
    "id": "WW7hpA5HX1f4"
   }
  },
  {
   "cell_type": "markdown",
   "source": [
    "**Why do you think such bias exists? [1 pt]**"
   ],
   "metadata": {
    "colab_type": "text",
    "id": "-eiBykT8cqxB"
   }
  },
  {
   "cell_type": "markdown",
   "source": [
    "I think it happens because the texts that are used to train the algorithms might be older and they contain those biases. As a result, the words like blue and man appear close to each other and they are reflected on the weights."
   ],
   "metadata": {
    "colab_type": "text",
    "id": "kzdbQIdcYNMw"
   }
  },
  {
   "cell_type": "markdown",
   "source": [
    "### Visualizing Embeddings [2.5 pts]\n",
    "\n",
    "Since the word embeddings have a dimension of 300, it is not possible to visualize them directly. However, we can apply a dimension reduction technique like tSNE to reduce the dimensionality of the embeddings to 2-D and then plot them.\n",
    "\n",
    "Visualizing embeddings in this manner allows us to observe semantic and syntactic similarity of words graphically. Words that are similar to each other appear closer to each other on the tSNE plot.\n",
    "\n",
    "Let us begin by loading a smaller dataset and applying the Word2Vec model on that corpus. GenSim has a list of datasets available along with a simple_preprocess utility. You can choose any dataset here for your purpose.\n",
    "\n",
    "We define a `CustomCorpus` class that compiles and loads a dataset of Obama's transcripts (from [here](https://github.com/nlp-compromise/nlp-corpus/tree/master/src/sotu)) and provides it to the Word2Vec model. We then use this model for our tSNE plot later.\n"
   ],
   "metadata": {
    "colab_type": "text",
    "id": "mUarSe-4eOG-"
   }
  },
  {
   "cell_type": "code",
   "execution_count": null,
   "source": [
    "from gensim.models.word2vec import Word2Vec\n",
    "from gensim.test.utils import datapath\n",
    "from gensim import utils\n",
    "\n",
    "\n",
    "\n",
    "class CustomCorpus(object):\n",
    "    \"\"\"An interator that yields sentences (lists of str).\"\"\"\n",
    "\n",
    "    def __iter__(self):\n",
    "        # Loading dataset\n",
    "        import urllib.request\n",
    "        commit = \"6c87fd90508c544e340d88c2ca38d1126832f055\"       \n",
    "        urls = [\n",
    "            f\"https://raw.githubusercontent.com/nlp-compromise/nlp-corpus/{commit}/sotu/Obama_{year}.txt\" for year in range(2009, 2016)\n",
    "        ]\n",
    "\n",
    "        compiled = []\n",
    "        for url in urls:\n",
    "            for line in urllib.request.urlopen(url):\n",
    "                compiled.append(line)\n",
    "\n",
    "        # For each line in dataset, yield the preprocessed line\n",
    "        for line in compiled:\n",
    "            yield utils.simple_preprocess(line)\n",
    "\n",
    "model = Word2Vec(sentences=CustomCorpus(), size=100)"
   ],
   "outputs": [],
   "metadata": {
    "colab": {},
    "colab_type": "code",
    "id": "WLCDWHEdqack"
   }
  },
  {
   "cell_type": "markdown",
   "source": [
    "**In the code below, complete the method to generate the tSNE plot, given the word vectors. You may use `sklearn.manifold.TSNE` for this purpose. The `generate_tSNE` method takes as input the original word embedding matrix with shape=(VOCAB_SIZE, 100) and reduces it into a 2-D word embedding matrix with shape=(VOCAB_SIZE, 2). [1.25 pts]**"
   ],
   "metadata": {
    "colab_type": "text",
    "id": "zTqE0byakzd3"
   }
  },
  {
   "cell_type": "code",
   "execution_count": null,
   "source": [
    "from sklearn.manifold import TSNE\n",
    "import matplotlib.pyplot as plt\n",
    "import random\n",
    "\n",
    "def generate_tSNE(vectors):\n",
    "    # for i in range(len(vectors)):\n",
    "    #     vectors[i] = vectors[i].astype(float)\n",
    "    vocab_size = vectors.shape[0]\n",
    "    print(\"Vocab size: {}\".format(vocab_size))\n",
    "    assert vectors.shape[1] == 100\n",
    "    \n",
    "    \n",
    "    ### YOUR CODE BELOW    print(vectors)\n",
    "    tsne_transformed_vectors = TSNE(n_components=2).fit_transform((vectors))\n",
    "    ### YOUR CODE ABOVE\n",
    "\n",
    "    assert tsne_transformed_vectors.shape[1] == 2\n",
    "    assert tsne_transformed_vectors.shape[0] == vocab_size \n",
    "    return tsne_transformed_vectors\n",
    "\n",
    "tsne = generate_tSNE(model.wv[model.wv.vocab])"
   ],
   "outputs": [],
   "metadata": {
    "colab": {},
    "colab_type": "code",
    "id": "K6E-8nukfXhr"
   }
  },
  {
   "cell_type": "markdown",
   "source": [
    "Let us plot the result and add labels for a few words on the plot. You can edit the `must_include` list to mandatorily include a few words you want to base your inferences on.\n",
    "\n",
    "**From the tSNE plot, draw inferences for 5 pairs of words, for why they appear close to each other or far apart. Explain your observations with reasoning. [1.25 pts]**"
   ],
   "metadata": {
    "colab_type": "text",
    "id": "pKTkhX_vp0iD"
   }
  },
  {
   "cell_type": "code",
   "execution_count": null,
   "source": [
    "def plot_with_matplotlib(x_vals, y_vals, words, must_include, random_include):\n",
    "    plt.figure(figsize=(15, 15))\n",
    "    plt.scatter(x_vals, y_vals, color=[1., 0.5, 0.5])\n",
    "\n",
    "    indices = list(range(len(words)))\n",
    "    random.seed(1)\n",
    "    selected_indices = []#random.sample(indices, random_include)\n",
    "\n",
    "    selected_indices.extend([i for i in indices if words[i] in must_include])\n",
    "    for i in selected_indices:\n",
    "        plt.annotate(words[i], (x_vals[i], y_vals[i]), fontsize=12)\n",
    "\n",
    "must_include = ['training','achievement','crisis','recovery','father','mother','down','up','banks','violence']\n",
    "plot_with_matplotlib(tsne[:, 0], tsne[:, 1], list(model.wv.vocab.keys()), must_include, random_include=100)"
   ],
   "outputs": [],
   "metadata": {
    "colab": {},
    "colab_type": "code",
    "id": "9ihnzM8SoT_s"
   }
  },
  {
   "cell_type": "markdown",
   "source": [
    "For this question I chose several pairs of words. Some masculine femenine relationships, which usually give high similarity like mother and father. Also I selected up and down to have some antonyms as well. All these words were pretty close on the plot. Also I chose crisis and recovery which a priori seemed to be related to me, but the embeddings don't reflect that. For words unrelated I chose violence and banks which are the furthest away pair from all the before mentioned but I found another pair really related: crisis and banks."
   ],
   "metadata": {
    "colab_type": "text",
    "id": "rWnw1boIdBrY"
   }
  }
 ],
 "metadata": {
  "colab": {
   "collapsed_sections": [],
   "name": "word_embedding.ipynb",
   "provenance": []
  },
  "kernelspec": {
   "name": "python3",
   "display_name": "Python 3.9.5 64-bit ('base': conda)"
  },
  "language_info": {
   "codemirror_mode": {
    "name": "ipython",
    "version": 3
   },
   "file_extension": ".py",
   "mimetype": "text/x-python",
   "name": "python",
   "nbconvert_exporter": "python",
   "pygments_lexer": "ipython3",
   "version": "3.9.5"
  },
  "interpreter": {
   "hash": "fd4653ffb3619e38e0f162702933cb5a2e71428b78fc95dca1bdeccba0429964"
  }
 },
 "nbformat": 4,
 "nbformat_minor": 4
}